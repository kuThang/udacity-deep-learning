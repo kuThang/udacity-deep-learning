{
  "nbformat": 4,
  "nbformat_minor": 0,
  "metadata": {
    "anaconda-cloud": {},
    "kernelspec": {
      "name": "python3",
      "display_name": "Python 3"
    },
    "language_info": {
      "codemirror_mode": {
        "name": "ipython",
        "version": 3
      },
      "file_extension": ".py",
      "mimetype": "text/x-python",
      "name": "python",
      "nbconvert_exporter": "python",
      "pygments_lexer": "ipython3",
      "version": "3.6.4"
    },
    "colab": {
      "name": "Copy of mnist_mlp_solution_with_validation.ipynb",
      "provenance": [],
      "collapsed_sections": [],
      "toc_visible": true
    },
    "accelerator": "GPU"
  },
  "cells": [
    {
      "cell_type": "code",
      "metadata": {
        "id": "aXzp1pqQVUAM",
        "colab_type": "code",
        "colab": {
          "base_uri": "https://localhost:8080/",
          "height": 253
        },
        "outputId": "4532adda-ca99-409a-f839-57aed30ae95e"
      },
      "source": [
        "!ln -sf /opt/bin/nvidia-smi /usr/bin/nvidia-smi\n",
        "!pip install gputil\n",
        "!pip install psutil\n",
        "!pip install humanize\n",
        "import psutil\n",
        "import humanize\n",
        "import os\n",
        "import GPUtil as GPU\n",
        "GPUs = GPU.getGPUs()\n",
        "# XXX: only one GPU on Colab and isn’t guaranteed\n",
        "gpu = GPUs[0]\n",
        "def printm():\n",
        " process = psutil.Process(os.getpid())\n",
        " print(\"Gen RAM Free: \" + humanize.naturalsize( psutil.virtual_memory().available ), \" | Proc size: \" + humanize.naturalsize( process.memory_info().rss))\n",
        " print(\"GPU RAM Free: {0:.0f}MB | Used: {1:.0f}MB | Util {2:3.0f}% | Total {3:.0f}MB\".format(gpu.memoryFree, gpu.memoryUsed, gpu.memoryUtil*100, gpu.memoryTotal))\n",
        "printm() \n"
      ],
      "execution_count": 1,
      "outputs": [
        {
          "output_type": "stream",
          "text": [
            "Collecting gputil\n",
            "  Downloading https://files.pythonhosted.org/packages/ed/0e/5c61eedde9f6c87713e89d794f01e378cfd9565847d4576fa627d758c554/GPUtil-1.4.0.tar.gz\n",
            "Building wheels for collected packages: gputil\n",
            "  Building wheel for gputil (setup.py) ... \u001b[?25l\u001b[?25hdone\n",
            "  Created wheel for gputil: filename=GPUtil-1.4.0-cp36-none-any.whl size=7410 sha256=6a73188b71a0e4be225b4fc5415bb7270553bbff31ef9f98bcc00947f6e9ec66\n",
            "  Stored in directory: /root/.cache/pip/wheels/3d/77/07/80562de4bb0786e5ea186911a2c831fdd0018bda69beab71fd\n",
            "Successfully built gputil\n",
            "Installing collected packages: gputil\n",
            "Successfully installed gputil-1.4.0\n",
            "Requirement already satisfied: psutil in /usr/local/lib/python3.6/dist-packages (5.4.8)\n",
            "Requirement already satisfied: humanize in /usr/local/lib/python3.6/dist-packages (0.5.1)\n",
            "Gen RAM Free: 12.8 GB  | Proc size: 156.4 MB\n",
            "GPU RAM Free: 16280MB | Used: 0MB | Util   0% | Total 16280MB\n"
          ],
          "name": "stdout"
        }
      ]
    },
    {
      "cell_type": "markdown",
      "metadata": {
        "id": "Pl7ebHh7VKPk",
        "colab_type": "text"
      },
      "source": [
        "# Multi-Layer Perceptron, MNIST\n",
        "---\n",
        "In this notebook, we will train an MLP to classify images from the [MNIST database](http://yann.lecun.com/exdb/mnist/) hand-written digit database.\n",
        "\n",
        "The process will be broken down into the following steps:\n",
        ">1. Load and visualize the data\n",
        "2. Define a neural network\n",
        "3. Train the model\n",
        "4. Evaluate the performance of our trained model on a test dataset!\n",
        "\n",
        "Before we begin, we have to import the necessary libraries for working with data and PyTorch."
      ]
    },
    {
      "cell_type": "code",
      "metadata": {
        "id": "ywKGj0GNVKPn",
        "colab_type": "code",
        "colab": {}
      },
      "source": [
        "# import libraries\n",
        "import torch\n",
        "import numpy as np"
      ],
      "execution_count": 0,
      "outputs": []
    },
    {
      "cell_type": "markdown",
      "metadata": {
        "id": "Hh2SeuF1VKPq",
        "colab_type": "text"
      },
      "source": [
        "---\n",
        "## Load and Visualize the [Data](http://pytorch.org/docs/stable/torchvision/datasets.html)\n",
        "\n",
        "Downloading may take a few moments, and you should see your progress as the data is loading. You may also choose to change the `batch_size` if you want to load more data at a time.\n",
        "\n",
        "This cell will create DataLoaders for each of our datasets."
      ]
    },
    {
      "cell_type": "code",
      "metadata": {
        "id": "STzV8muoVnPW",
        "colab_type": "code",
        "colab": {
          "base_uri": "https://localhost:8080/",
          "height": 33
        },
        "outputId": "cf7e4cae-4f1c-47d8-9bc9-b35a7a2eb0d9"
      },
      "source": [
        "from torchvision import datasets\n",
        "import torchvision.transforms as transforms\n",
        "from torch.utils.data.sampler import SubsetRandomSampler\n",
        "\n",
        "num_workers = 0\n",
        "batch_size = 64\n",
        "valid_size = 0.2\n",
        "\n",
        "transform = transforms.ToTensor()\n",
        "\n",
        "train_data = datasets.MNIST(root='data', train=True, download=True, transform=transform)\n",
        "test_data = datasets.MNIST(root='data', train=False, download=True, transform=transform)\n",
        "\n",
        "indices = list(range(len(train_data)))\n",
        "np.random.shuffle(indices)\n",
        "split = int(np.floor(valid_size * len(train_data)))\n",
        "train_idx = indices[split:]\n",
        "valid_idx = indices[:split]\n",
        "\n",
        "train_sampler = SubsetRandomSampler(train_idx)\n",
        "valid_sampler = SubsetRandomSampler(valid_idx)\n",
        "\n",
        "train_loader = torch.utils.data.DataLoader(train_data, batch_size=batch_size, sampler=train_sampler, num_workers=num_workers)\n",
        "valid_loader = torch.utils.data.DataLoader(train_data, batch_size=batch_size, sampler=valid_sampler, num_workers=num_workers)\n",
        "test_loader = torch.utils.data.DataLoader(test_data, batch_size=batch_size, num_workers=num_workers)\n",
        "\n",
        "print(len(train_idx), len(valid_idx), len(test_data))"
      ],
      "execution_count": 5,
      "outputs": [
        {
          "output_type": "stream",
          "text": [
            "48000 12000 10000\n"
          ],
          "name": "stdout"
        }
      ]
    },
    {
      "cell_type": "code",
      "metadata": {
        "id": "MMRFfWwpVKPr",
        "colab_type": "code",
        "colab": {
          "base_uri": "https://localhost:8080/",
          "height": 270
        },
        "outputId": "144934f0-df2c-4683-81b0-912650fbbca3"
      },
      "source": [
        "# from torchvision import datasets\n",
        "# import torchvision.transforms as transforms\n",
        "# from torch.utils.data.sampler import SubsetRandomSampler\n",
        "\n",
        "# # number of subprocesses to use for data loading\n",
        "# num_workers = 0\n",
        "# # how many samples per batch to load\n",
        "# batch_size = 20\n",
        "# # percentage of training set to use as validation\n",
        "# valid_size = 0.2\n",
        "\n",
        "# # convert data to torch.FloatTensor\n",
        "# transform = transforms.ToTensor()\n",
        "\n",
        "# # choose the training and test datasets\n",
        "# train_data = datasets.MNIST(root='data', train=True,\n",
        "#                                    download=True, transform=transform)\n",
        "# test_data = datasets.MNIST(root='data', train=False,\n",
        "#                                   download=True, transform=transform)\n",
        "\n",
        "# # obtain training indices that will be used for validation\n",
        "# num_train = len(train_data)\n",
        "# indices = list(range(num_train))\n",
        "# np.random.shuffle(indices)\n",
        "# split = int(np.floor(valid_size * num_train))\n",
        "# train_idx, valid_idx = indices[split:], indices[:split]\n",
        "\n",
        "# # define samplers for obtaining training and validation batches\n",
        "# train_sampler = SubsetRandomSampler(train_idx)\n",
        "# valid_sampler = SubsetRandomSampler(valid_idx)\n",
        "\n",
        "# # prepare data loaders\n",
        "# train_loader = torch.utils.data.DataLoader(train_data, batch_size=batch_size,\n",
        "#     sampler=train_sampler, num_workers=num_workers)\n",
        "# valid_loader = torch.utils.data.DataLoader(train_data, batch_size=batch_size, \n",
        "#     sampler=valid_sampler, num_workers=num_workers)\n",
        "# test_loader = torch.utils.data.DataLoader(test_data, batch_size=batch_size, \n",
        "#     num_workers=num_workers)"
      ],
      "execution_count": 3,
      "outputs": [
        {
          "output_type": "stream",
          "text": [
            "\r0it [00:00, ?it/s]"
          ],
          "name": "stderr"
        },
        {
          "output_type": "stream",
          "text": [
            "Downloading http://yann.lecun.com/exdb/mnist/train-images-idx3-ubyte.gz to data/MNIST/raw/train-images-idx3-ubyte.gz\n"
          ],
          "name": "stdout"
        },
        {
          "output_type": "stream",
          "text": [
            "9920512it [00:01, 9660324.02it/s]                            \n"
          ],
          "name": "stderr"
        },
        {
          "output_type": "stream",
          "text": [
            "Extracting data/MNIST/raw/train-images-idx3-ubyte.gz to data/MNIST/raw\n"
          ],
          "name": "stdout"
        },
        {
          "output_type": "stream",
          "text": [
            "  0%|          | 0/28881 [00:00<?, ?it/s]"
          ],
          "name": "stderr"
        },
        {
          "output_type": "stream",
          "text": [
            "Downloading http://yann.lecun.com/exdb/mnist/train-labels-idx1-ubyte.gz to data/MNIST/raw/train-labels-idx1-ubyte.gz\n"
          ],
          "name": "stdout"
        },
        {
          "output_type": "stream",
          "text": [
            "32768it [00:00, 135181.69it/s]           \n",
            "  0%|          | 0/1648877 [00:00<?, ?it/s]"
          ],
          "name": "stderr"
        },
        {
          "output_type": "stream",
          "text": [
            "Extracting data/MNIST/raw/train-labels-idx1-ubyte.gz to data/MNIST/raw\n",
            "Downloading http://yann.lecun.com/exdb/mnist/t10k-images-idx3-ubyte.gz to data/MNIST/raw/t10k-images-idx3-ubyte.gz\n"
          ],
          "name": "stdout"
        },
        {
          "output_type": "stream",
          "text": [
            "1654784it [00:00, 2298959.62it/s]                            \n",
            "0it [00:00, ?it/s]"
          ],
          "name": "stderr"
        },
        {
          "output_type": "stream",
          "text": [
            "Extracting data/MNIST/raw/t10k-images-idx3-ubyte.gz to data/MNIST/raw\n",
            "Downloading http://yann.lecun.com/exdb/mnist/t10k-labels-idx1-ubyte.gz to data/MNIST/raw/t10k-labels-idx1-ubyte.gz\n"
          ],
          "name": "stdout"
        },
        {
          "output_type": "stream",
          "text": [
            "8192it [00:00, 53977.64it/s]            \n"
          ],
          "name": "stderr"
        },
        {
          "output_type": "stream",
          "text": [
            "Extracting data/MNIST/raw/t10k-labels-idx1-ubyte.gz to data/MNIST/raw\n",
            "Processing...\n",
            "Done!\n"
          ],
          "name": "stdout"
        }
      ]
    },
    {
      "cell_type": "markdown",
      "metadata": {
        "id": "wzTO-NwPVKPu",
        "colab_type": "text"
      },
      "source": [
        "### Visualize a Batch of Training Data\n",
        "\n",
        "The first step in a classification task is to take a look at the data, make sure it is loaded in correctly, then make any initial observations about patterns in that data."
      ]
    },
    {
      "cell_type": "code",
      "metadata": {
        "id": "FFzAWV14VKPv",
        "colab_type": "code",
        "outputId": "08bcf900-dc64-48fb-fc5a-69717a3b4b94",
        "colab": {}
      },
      "source": [
        "import matplotlib.pyplot as plt\n",
        "%matplotlib inline\n",
        "    \n",
        "# obtain one batch of training images\n",
        "dataiter = iter(train_loader)\n",
        "images, labels = dataiter.next()\n",
        "images = images.numpy()\n",
        "\n",
        "# plot the images in the batch, along with the corresponding labels\n",
        "fig = plt.figure(figsize=(25, 4))\n",
        "for idx in np.arange(20):\n",
        "    ax = fig.add_subplot(2, 20/2, idx+1, xticks=[], yticks=[])\n",
        "    ax.imshow(np.squeeze(images[idx]), cmap='gray')\n",
        "    # print out the correct label for each image\n",
        "    # .item() gets the value contained in a Tensor\n",
        "    ax.set_title(str(labels[idx].item()))"
      ],
      "execution_count": 0,
      "outputs": [
        {
          "output_type": "display_data",
          "data": {
            "image/png": "[encoded data removed]",
            "text/plain": [
              "<Figure size 1800x288 with 20 Axes>"
            ]
          },
          "metadata": {
            "tags": []
          }
        }
      ]
    },
    {
      "cell_type": "markdown",
      "metadata": {
        "id": "yML3TD2hVKPy",
        "colab_type": "text"
      },
      "source": [
        "### View an Image in More Detail"
      ]
    },
    {
      "cell_type": "code",
      "metadata": {
        "id": "_iu6TRVTVKPz",
        "colab_type": "code",
        "outputId": "e8cb0b61-73ef-4e22-8f5a-465e70fae7f9",
        "colab": {}
      },
      "source": [
        "img = np.squeeze(images[1])\n",
        "\n",
        "fig = plt.figure(figsize = (12,12)) \n",
        "ax = fig.add_subplot(111)\n",
        "ax.imshow(img, cmap='gray')\n",
        "width, height = img.shape\n",
        "thresh = img.max()/2.5\n",
        "for x in range(width):\n",
        "    for y in range(height):\n",
        "        val = round(img[x][y],2) if img[x][y] !=0 else 0\n",
        "        ax.annotate(str(val), xy=(y,x),\n",
        "                    horizontalalignment='center',\n",
        "                    verticalalignment='center',\n",
        "                    color='white' if img[x][y]<thresh else 'black')"
      ],
      "execution_count": 0,
      "outputs": [
        {
          "output_type": "display_data",
          "data": {
            "image/png": "[encoded data removed]",
            "text/plain": [
              "<Figure size 864x864 with 1 Axes>"
            ]
          },
          "metadata": {
            "tags": []
          }
        }
      ]
    },
    {
      "cell_type": "markdown",
      "metadata": {
        "id": "KiXayzNjVKP2",
        "colab_type": "text"
      },
      "source": [
        "---\n",
        "## Define the Network [Architecture](http://pytorch.org/docs/stable/nn.html)\n",
        "\n",
        "The architecture will be responsible for seeing as input a 784-dim Tensor of pixel values for each image, and producing a Tensor of length 10 (our number of classes) that indicates the class scores for an input image. This particular example uses two hidden layers and dropout to avoid overfitting."
      ]
    },
    {
      "cell_type": "code",
      "metadata": {
        "id": "djH87DkfVKP2",
        "colab_type": "code",
        "outputId": "d8ed07fe-e3a4-4a5b-e44e-8e7a39fdc045",
        "colab": {
          "base_uri": "https://localhost:8080/",
          "height": 116
        }
      },
      "source": [
        "import torch.nn as nn\n",
        "import torch.nn.functional as F\n",
        "\n",
        "# define the NN architecture\n",
        "class Net(nn.Module):\n",
        "    def __init__(self):\n",
        "        super(Net, self).__init__()\n",
        "        # number of hidden nodes in each layer (512)\n",
        "        hidden_1 = 512\n",
        "        hidden_2 = 512\n",
        "        # linear layer (784 -> hidden_1)\n",
        "        self.fc1 = nn.Linear(28 * 28, hidden_1)\n",
        "        # linear layer (n_hidden -> hidden_2)\n",
        "        self.fc2 = nn.Linear(hidden_1, hidden_2)\n",
        "        # linear layer (n_hidden -> 10)\n",
        "        self.fc3 = nn.Linear(hidden_2, 10)\n",
        "        # dropout layer (p=0.2)\n",
        "        # dropout prevents overfitting of data\n",
        "        self.dropout = nn.Dropout(0.2)\n",
        "\n",
        "    def forward(self, x):\n",
        "        # flatten image input\n",
        "        x = x.view(-1, 28 * 28)\n",
        "        # add hidden layer, with relu activation function\n",
        "        x = F.relu(self.fc1(x))\n",
        "        # add dropout layer\n",
        "        x = self.dropout(x)\n",
        "        # add hidden layer, with relu activation function\n",
        "        x = F.relu(self.fc2(x))\n",
        "        # add dropout layer\n",
        "        x = self.dropout(x)\n",
        "        # add output layer\n",
        "        x = self.fc3(x)\n",
        "        return x\n",
        "\n",
        "# initialize the NN\n",
        "model = Net()\n",
        "print(model)"
      ],
      "execution_count": 6,
      "outputs": [
        {
          "output_type": "stream",
          "text": [
            "Net(\n",
            "  (fc1): Linear(in_features=784, out_features=512, bias=True)\n",
            "  (fc2): Linear(in_features=512, out_features=512, bias=True)\n",
            "  (fc3): Linear(in_features=512, out_features=10, bias=True)\n",
            "  (dropout): Dropout(p=0.2, inplace=False)\n",
            ")\n"
          ],
          "name": "stdout"
        }
      ]
    },
    {
      "cell_type": "markdown",
      "metadata": {
        "id": "g63iqHKrVKP5",
        "colab_type": "text"
      },
      "source": [
        "###  Specify [Loss Function](http://pytorch.org/docs/stable/nn.html#loss-functions) and [Optimizer](http://pytorch.org/docs/stable/optim.html)\n",
        "\n",
        "It's recommended that you use cross-entropy loss for classification. If you look at the documentation (linked above), you can see that PyTorch's cross entropy function applies a softmax funtion to the output layer *and* then calculates the log loss."
      ]
    },
    {
      "cell_type": "code",
      "metadata": {
        "id": "_PdG-OmHVKP6",
        "colab_type": "code",
        "colab": {}
      },
      "source": [
        "# specify loss function (categorical cross-entropy)\n",
        "criterion = nn.CrossEntropyLoss()\n",
        "\n",
        "# specify optimizer (stochastic gradient descent) and learning rate = 0.01\n",
        "optimizer = torch.optim.SGD(model.parameters(), lr=0.01)"
      ],
      "execution_count": 0,
      "outputs": []
    },
    {
      "cell_type": "markdown",
      "metadata": {
        "id": "xWiLBwhXVKP8",
        "colab_type": "text"
      },
      "source": [
        "---\n",
        "## Train the Network\n",
        "\n",
        "The steps for training/learning from a batch of data are described in the comments below:\n",
        "1. Clear the gradients of all optimized variables\n",
        "2. Forward pass: compute predicted outputs by passing inputs to the model\n",
        "3. Calculate the loss\n",
        "4. Backward pass: compute gradient of the loss with respect to model parameters\n",
        "5. Perform a single optimization step (parameter update)\n",
        "6. Update average training loss\n",
        "\n",
        "The following loop trains for 50 epochs; take a look at how the values for the training loss decrease over time. We want it to decrease while also avoiding overfitting the training data."
      ]
    },
    {
      "cell_type": "code",
      "metadata": {
        "id": "O498JkLWVKP9",
        "colab_type": "code",
        "outputId": "8ec6a9ef-8d83-4a40-c485-43cf6fecc5f2",
        "colab": {
          "base_uri": "https://localhost:8080/",
          "height": 1000
        }
      },
      "source": [
        "# number of epochs to train the model\n",
        "n_epochs = 50\n",
        "model.to('cuda')\n",
        "# initialize tracker for minimum validation loss\n",
        "valid_loss_min = np.Inf # set initial \"min\" to infinity\n",
        "\n",
        "for epoch in range(n_epochs):\n",
        "    # monitor training loss\n",
        "    train_loss = 0.0\n",
        "    valid_loss = 0.0\n",
        "    \n",
        "    ###################\n",
        "    # train the model #\n",
        "    ###################\n",
        "    model.train() # prep model for training\n",
        "    for data, target in train_loader:\n",
        "        data, target = data.to('cuda'), target.to('cuda')\n",
        "        # clear the gradients of all optimized variables\n",
        "        optimizer.zero_grad()\n",
        "        # forward pass: compute predicted outputs by passing inputs to the model\n",
        "        output = model(data)\n",
        "        # calculate the loss\n",
        "        loss = criterion(output, target)\n",
        "        # backward pass: compute gradient of the loss with respect to model parameters\n",
        "        loss.backward()\n",
        "        # perform a single optimization step (parameter update)\n",
        "        optimizer.step()\n",
        "        # update running training loss\n",
        "        train_loss += loss.item()*data.size(0)\n",
        "        \n",
        "    ######################    \n",
        "    # validate the model #\n",
        "    ######################\n",
        "    model.eval() # prep model for evaluation\n",
        "    for data, target in valid_loader:\n",
        "        data, target = data.to('cuda'), target.to('cuda')\n",
        "        # forward pass: compute predicted outputs by passing inputs to the model\n",
        "        output = model(data)\n",
        "        # calculate the loss\n",
        "        loss = criterion(output, target)\n",
        "        # update running validation loss \n",
        "        valid_loss += loss.item()*data.size(0)\n",
        "        \n",
        "    # print training/validation statistics \n",
        "    # calculate average loss over an epoch\n",
        "    train_loss = train_loss/len(train_loader.sampler)\n",
        "    valid_loss = valid_loss/len(valid_loader.sampler)\n",
        "    \n",
        "    print('Epoch: {} \\tTraining Loss: {:.6f} \\tValidation Loss: {:.6f}'.format(\n",
        "        epoch+1, \n",
        "        train_loss,\n",
        "        valid_loss\n",
        "        ))\n",
        "    \n",
        "    # save model if validation loss has decreased\n",
        "    if valid_loss <= valid_loss_min:\n",
        "        print('Validation loss decreased ({:.6f} --> {:.6f}).  Saving model ...'.format(\n",
        "        valid_loss_min,\n",
        "        valid_loss))\n",
        "        torch.save(model.state_dict(), 'model.pt')\n",
        "        valid_loss_min = valid_loss"
      ],
      "execution_count": 8,
      "outputs": [
        {
          "output_type": "stream",
          "text": [
            "Epoch: 1 \tTraining Loss: 1.805642 \tValidation Loss: 0.898745\n",
            "Validation loss decreased (inf --> 0.898745).  Saving model ...\n",
            "Epoch: 2 \tTraining Loss: 0.658381 \tValidation Loss: 0.453033\n",
            "Validation loss decreased (0.898745 --> 0.453033).  Saving model ...\n",
            "Epoch: 3 \tTraining Loss: 0.459780 \tValidation Loss: 0.360451\n",
            "Validation loss decreased (0.453033 --> 0.360451).  Saving model ...\n",
            "Epoch: 4 \tTraining Loss: 0.396475 \tValidation Loss: 0.321800\n",
            "Validation loss decreased (0.360451 --> 0.321800).  Saving model ...\n",
            "Epoch: 5 \tTraining Loss: 0.358560 \tValidation Loss: 0.292815\n",
            "Validation loss decreased (0.321800 --> 0.292815).  Saving model ...\n",
            "Epoch: 6 \tTraining Loss: 0.330932 \tValidation Loss: 0.273323\n",
            "Validation loss decreased (0.292815 --> 0.273323).  Saving model ...\n",
            "Epoch: 7 \tTraining Loss: 0.309880 \tValidation Loss: 0.255502\n",
            "Validation loss decreased (0.273323 --> 0.255502).  Saving model ...\n",
            "Epoch: 8 \tTraining Loss: 0.290428 \tValidation Loss: 0.240455\n",
            "Validation loss decreased (0.255502 --> 0.240455).  Saving model ...\n",
            "Epoch: 9 \tTraining Loss: 0.272844 \tValidation Loss: 0.228594\n",
            "Validation loss decreased (0.240455 --> 0.228594).  Saving model ...\n",
            "Epoch: 10 \tTraining Loss: 0.257144 \tValidation Loss: 0.215798\n",
            "Validation loss decreased (0.228594 --> 0.215798).  Saving model ...\n",
            "Epoch: 11 \tTraining Loss: 0.242401 \tValidation Loss: 0.204477\n",
            "Validation loss decreased (0.215798 --> 0.204477).  Saving model ...\n",
            "Epoch: 12 \tTraining Loss: 0.228723 \tValidation Loss: 0.193740\n",
            "Validation loss decreased (0.204477 --> 0.193740).  Saving model ...\n",
            "Epoch: 13 \tTraining Loss: 0.217445 \tValidation Loss: 0.184495\n",
            "Validation loss decreased (0.193740 --> 0.184495).  Saving model ...\n",
            "Epoch: 14 \tTraining Loss: 0.206750 \tValidation Loss: 0.176471\n",
            "Validation loss decreased (0.184495 --> 0.176471).  Saving model ...\n",
            "Epoch: 15 \tTraining Loss: 0.196512 \tValidation Loss: 0.168144\n",
            "Validation loss decreased (0.176471 --> 0.168144).  Saving model ...\n",
            "Epoch: 16 \tTraining Loss: 0.185345 \tValidation Loss: 0.161468\n",
            "Validation loss decreased (0.168144 --> 0.161468).  Saving model ...\n",
            "Epoch: 17 \tTraining Loss: 0.177971 \tValidation Loss: 0.155375\n",
            "Validation loss decreased (0.161468 --> 0.155375).  Saving model ...\n",
            "Epoch: 18 \tTraining Loss: 0.171085 \tValidation Loss: 0.150877\n",
            "Validation loss decreased (0.155375 --> 0.150877).  Saving model ...\n",
            "Epoch: 19 \tTraining Loss: 0.162886 \tValidation Loss: 0.143738\n",
            "Validation loss decreased (0.150877 --> 0.143738).  Saving model ...\n",
            "Epoch: 20 \tTraining Loss: 0.155878 \tValidation Loss: 0.138150\n",
            "Validation loss decreased (0.143738 --> 0.138150).  Saving model ...\n",
            "Epoch: 21 \tTraining Loss: 0.149681 \tValidation Loss: 0.133902\n",
            "Validation loss decreased (0.138150 --> 0.133902).  Saving model ...\n",
            "Epoch: 22 \tTraining Loss: 0.144303 \tValidation Loss: 0.130880\n",
            "Validation loss decreased (0.133902 --> 0.130880).  Saving model ...\n",
            "Epoch: 23 \tTraining Loss: 0.137218 \tValidation Loss: 0.125811\n",
            "Validation loss decreased (0.130880 --> 0.125811).  Saving model ...\n",
            "Epoch: 24 \tTraining Loss: 0.133216 \tValidation Loss: 0.122754\n",
            "Validation loss decreased (0.125811 --> 0.122754).  Saving model ...\n",
            "Epoch: 25 \tTraining Loss: 0.129430 \tValidation Loss: 0.118952\n",
            "Validation loss decreased (0.122754 --> 0.118952).  Saving model ...\n",
            "Epoch: 26 \tTraining Loss: 0.124063 \tValidation Loss: 0.115609\n",
            "Validation loss decreased (0.118952 --> 0.115609).  Saving model ...\n",
            "Epoch: 27 \tTraining Loss: 0.122115 \tValidation Loss: 0.113356\n",
            "Validation loss decreased (0.115609 --> 0.113356).  Saving model ...\n",
            "Epoch: 28 \tTraining Loss: 0.115750 \tValidation Loss: 0.110010\n",
            "Validation loss decreased (0.113356 --> 0.110010).  Saving model ...\n",
            "Epoch: 29 \tTraining Loss: 0.111478 \tValidation Loss: 0.107004\n",
            "Validation loss decreased (0.110010 --> 0.107004).  Saving model ...\n",
            "Epoch: 30 \tTraining Loss: 0.108684 \tValidation Loss: 0.105424\n",
            "Validation loss decreased (0.107004 --> 0.105424).  Saving model ...\n",
            "Epoch: 31 \tTraining Loss: 0.105490 \tValidation Loss: 0.103162\n",
            "Validation loss decreased (0.105424 --> 0.103162).  Saving model ...\n",
            "Epoch: 32 \tTraining Loss: 0.102529 \tValidation Loss: 0.100678\n",
            "Validation loss decreased (0.103162 --> 0.100678).  Saving model ...\n",
            "Epoch: 33 \tTraining Loss: 0.099075 \tValidation Loss: 0.099150\n",
            "Validation loss decreased (0.100678 --> 0.099150).  Saving model ...\n",
            "Epoch: 34 \tTraining Loss: 0.096195 \tValidation Loss: 0.096885\n",
            "Validation loss decreased (0.099150 --> 0.096885).  Saving model ...\n",
            "Epoch: 35 \tTraining Loss: 0.093840 \tValidation Loss: 0.096099\n",
            "Validation loss decreased (0.096885 --> 0.096099).  Saving model ...\n",
            "Epoch: 36 \tTraining Loss: 0.092989 \tValidation Loss: 0.095686\n",
            "Validation loss decreased (0.096099 --> 0.095686).  Saving model ...\n",
            "Epoch: 37 \tTraining Loss: 0.088075 \tValidation Loss: 0.093197\n",
            "Validation loss decreased (0.095686 --> 0.093197).  Saving model ...\n",
            "Epoch: 38 \tTraining Loss: 0.086445 \tValidation Loss: 0.091587\n",
            "Validation loss decreased (0.093197 --> 0.091587).  Saving model ...\n",
            "Epoch: 39 \tTraining Loss: 0.084259 \tValidation Loss: 0.089212\n",
            "Validation loss decreased (0.091587 --> 0.089212).  Saving model ...\n",
            "Epoch: 40 \tTraining Loss: 0.082707 \tValidation Loss: 0.087880\n",
            "Validation loss decreased (0.089212 --> 0.087880).  Saving model ...\n",
            "Epoch: 41 \tTraining Loss: 0.080714 \tValidation Loss: 0.087723\n",
            "Validation loss decreased (0.087880 --> 0.087723).  Saving model ...\n",
            "Epoch: 42 \tTraining Loss: 0.077361 \tValidation Loss: 0.086805\n",
            "Validation loss decreased (0.087723 --> 0.086805).  Saving model ...\n",
            "Epoch: 43 \tTraining Loss: 0.075335 \tValidation Loss: 0.085080\n",
            "Validation loss decreased (0.086805 --> 0.085080).  Saving model ...\n",
            "Epoch: 44 \tTraining Loss: 0.074093 \tValidation Loss: 0.083787\n",
            "Validation loss decreased (0.085080 --> 0.083787).  Saving model ...\n",
            "Epoch: 45 \tTraining Loss: 0.072158 \tValidation Loss: 0.082792\n",
            "Validation loss decreased (0.083787 --> 0.082792).  Saving model ...\n",
            "Epoch: 46 \tTraining Loss: 0.071083 \tValidation Loss: 0.081536\n",
            "Validation loss decreased (0.082792 --> 0.081536).  Saving model ...\n",
            "Epoch: 47 \tTraining Loss: 0.068604 \tValidation Loss: 0.081558\n",
            "Epoch: 48 \tTraining Loss: 0.067735 \tValidation Loss: 0.080413\n",
            "Validation loss decreased (0.081536 --> 0.080413).  Saving model ...\n",
            "Epoch: 49 \tTraining Loss: 0.066070 \tValidation Loss: 0.078738\n",
            "Validation loss decreased (0.080413 --> 0.078738).  Saving model ...\n",
            "Epoch: 50 \tTraining Loss: 0.064457 \tValidation Loss: 0.078182\n",
            "Validation loss decreased (0.078738 --> 0.078182).  Saving model ...\n"
          ],
          "name": "stdout"
        }
      ]
    },
    {
      "cell_type": "markdown",
      "metadata": {
        "id": "jUHQYDJnVKP_",
        "colab_type": "text"
      },
      "source": [
        "###  Load the Model with the Lowest Validation Loss"
      ]
    },
    {
      "cell_type": "code",
      "metadata": {
        "id": "G0jrKZ8AVKP_",
        "colab_type": "code",
        "colab": {}
      },
      "source": [
        "model.load_state_dict(torch.load('model.pt'))"
      ],
      "execution_count": 0,
      "outputs": []
    },
    {
      "cell_type": "markdown",
      "metadata": {
        "id": "4mLsdbN0VKQB",
        "colab_type": "text"
      },
      "source": [
        "---\n",
        "## Test the Trained Network\n",
        "\n",
        "Finally, we test our best model on previously unseen **test data** and evaluate it's performance. Testing on unseen data is a good way to check that our model generalizes well. It may also be useful to be granular in this analysis and take a look at how this model performs on each class as well as looking at its overall loss and accuracy."
      ]
    },
    {
      "cell_type": "code",
      "metadata": {
        "id": "9g3uWpavVKQC",
        "colab_type": "code",
        "outputId": "0e91019e-6e76-4110-c9e3-aaedb25f09e9",
        "colab": {
          "base_uri": "https://localhost:8080/",
          "height": 250
        }
      },
      "source": [
        "# initialize lists to monitor test loss and accuracy\n",
        "test_loss = 0.0\n",
        "class_correct = list(0. for i in range(10))\n",
        "class_total = list(0. for i in range(10))\n",
        "model.to(('cuda'))\n",
        "model.eval() # prep model for evaluation\n",
        "\n",
        "for data, target in test_loader:\n",
        "    data, target = data.to('cuda'), target.to('cuda')\n",
        "    # forward pass: compute predicted outputs by passing inputs to the model\n",
        "    output = model(data)\n",
        "    # calculate the loss\n",
        "    loss = criterion(output, target)\n",
        "    # update test loss \n",
        "    test_loss += loss.item()*data.size(0)\n",
        "    # convert output probabilities to predicted class\n",
        "    _, pred = torch.max(output, 1)\n",
        "    # compare predictions to true label\n",
        "    correct = np.squeeze(pred.eq(target.data.view_as(pred)))\n",
        "    # calculate test accuracy for each object class\n",
        "    for i in range(len(target)):\n",
        "        label = target.data[i]\n",
        "        class_correct[label] += correct[i].item()\n",
        "        class_total[label] += 1\n",
        "\n",
        "# calculate and print avg test loss\n",
        "test_loss = test_loss/len(test_loader.sampler)\n",
        "print('Test Loss: {:.6f}\\n'.format(test_loss))\n",
        "\n",
        "for i in range(10):\n",
        "    if class_total[i] > 0:\n",
        "        print('Test Accuracy of %5s: %2d%% (%2d/%2d)' % (\n",
        "            str(i), 100 * class_correct[i] / class_total[i],\n",
        "            np.sum(class_correct[i]), np.sum(class_total[i])))\n",
        "    else:\n",
        "        print('Test Accuracy of %5s: N/A (no training examples)' % (classes[i]))\n",
        "\n",
        "print('\\nTest Accuracy (Overall): %2d%% (%2d/%2d)' % (\n",
        "    100. * np.sum(class_correct) / np.sum(class_total),\n",
        "    np.sum(class_correct), np.sum(class_total)))"
      ],
      "execution_count": 9,
      "outputs": [
        {
          "output_type": "stream",
          "text": [
            "Test Loss: 0.073983\n",
            "\n",
            "Test Accuracy of     0: 98% (968/980)\n",
            "Test Accuracy of     1: 99% (1124/1135)\n",
            "Test Accuracy of     2: 97% (1008/1032)\n",
            "Test Accuracy of     3: 97% (988/1010)\n",
            "Test Accuracy of     4: 97% (958/982)\n",
            "Test Accuracy of     5: 96% (863/892)\n",
            "Test Accuracy of     6: 97% (935/958)\n",
            "Test Accuracy of     7: 97% (999/1028)\n",
            "Test Accuracy of     8: 97% (946/974)\n",
            "Test Accuracy of     9: 96% (974/1009)\n",
            "\n",
            "Test Accuracy (Overall): 97% (9763/10000)\n"
          ],
          "name": "stdout"
        }
      ]
    },
    {
      "cell_type": "markdown",
      "metadata": {
        "id": "j5VNy-H4VKQE",
        "colab_type": "text"
      },
      "source": [
        "### Visualize Sample Test Results\n",
        "\n",
        "This cell displays test images and their labels in this format: `predicted (ground-truth)`. The text will be green for accurately classified examples and red for incorrect predictions."
      ]
    },
    {
      "cell_type": "code",
      "metadata": {
        "id": "sNeF5x5OVKQF",
        "colab_type": "code",
        "outputId": "5953da40-a629-4e3d-903c-13c0d286afd7",
        "colab": {
          "base_uri": "https://localhost:8080/",
          "height": 287
        }
      },
      "source": [
        "import matplotlib.pyplot as plt\n",
        "%matplotlib inline\n",
        "\n",
        "# obtain one batch of test images\n",
        "dataiter = iter(test_loader)\n",
        "images, labels = dataiter.next()\n",
        "images2, labels = images.to('cuda'), labels.to('cuda')\n",
        "\n",
        "# get sample outputs\n",
        "output = model(images2)\n",
        "# convert output probabilities to predicted class\n",
        "_, preds = torch.max(output, 1)\n",
        "# prep images for display\n",
        "images = images.numpy()\n",
        "\n",
        "# plot the images in the batch, along with predicted and true labels\n",
        "fig = plt.figure(figsize=(25, 4))\n",
        "for idx in np.arange(20):\n",
        "    ax = fig.add_subplot(2, 20/2, idx+1, xticks=[], yticks=[])\n",
        "    ax.imshow(np.squeeze(images[idx]), cmap='gray')\n",
        "    ax.set_title(\"{} ({})\".format(str(preds[idx].item()), str(labels[idx].item())),\n",
        "                 color=(\"green\" if preds[idx]==labels[idx] else \"red\"))"
      ],
      "execution_count": 14,
      "outputs": [
        {
          "output_type": "display_data",
          "data": {
            "image/png": "[encoded data removed]",
            "text/plain": [
              "<Figure size 1800x288 with 20 Axes>"
            ]
          },
          "metadata": {
            "tags": []
          }
        }
      ]
    },
    {
      "cell_type": "code",
      "metadata": {
        "id": "Jp6Felo7VKQH",
        "colab_type": "code",
        "colab": {}
      },
      "source": [
        ""
      ],
      "execution_count": 0,
      "outputs": []
    }
  ]
}