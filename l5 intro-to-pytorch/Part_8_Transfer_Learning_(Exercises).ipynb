{
  "nbformat": 4,
  "nbformat_minor": 0,
  "metadata": {
    "kernelspec": {
      "name": "python3",
      "display_name": "Python 3"
    },
    "language_info": {
      "codemirror_mode": {
        "name": "ipython",
        "version": 3
      },
      "file_extension": ".py",
      "mimetype": "text/x-python",
      "name": "python",
      "nbconvert_exporter": "python",
      "pygments_lexer": "ipython3",
      "version": "3.6.6"
    },
    "colab": {
      "name": "Copy of Part 8 - Transfer Learning (Exercises).ipynb",
      "provenance": [],
      "collapsed_sections": [],
      "toc_visible": true
    },
    "accelerator": "GPU"
  },
  "cells": [
    {
      "cell_type": "code",
      "metadata": {
        "id": "CoKa5QvqT9do",
        "colab_type": "code",
        "outputId": "e28ccf85-eb55-48ef-dfc1-ee0f28b7742c",
        "colab": {
          "base_uri": "https://localhost:8080/",
          "height": 53
        }
      },
      "source": [
        "from google.colab import drive\n",
        "drive.mount('/content/drive')"
      ],
      "execution_count": 1,
      "outputs": [
        {
          "output_type": "stream",
          "text": [
            "Drive already mounted at /content/drive; to attempt to forcibly remount, call drive.mount(\"/content/drive\", force_remount=True).\n"
          ],
          "name": "stdout"
        }
      ]
    },
    {
      "cell_type": "code",
      "metadata": {
        "id": "ou39_x2cVrEA",
        "colab_type": "code",
        "colab": {
          "base_uri": "https://localhost:8080/",
          "height": 320
        },
        "outputId": "68f07bb9-bd35-4dcf-c76e-49402af97a08"
      },
      "source": [
        "!nvidia-smi"
      ],
      "execution_count": 2,
      "outputs": [
        {
          "output_type": "stream",
          "text": [
            "Sat Dec 28 07:40:34 2019       \n",
            "+-----------------------------------------------------------------------------+\n",
            "| NVIDIA-SMI 418.67       Driver Version: 418.67       CUDA Version: 10.1     |\n",
            "|-------------------------------+----------------------+----------------------+\n",
            "| GPU  Name        Persistence-M| Bus-Id        Disp.A | Volatile Uncorr. ECC |\n",
            "| Fan  Temp  Perf  Pwr:Usage/Cap|         Memory-Usage | GPU-Util  Compute M. |\n",
            "|===============================+======================+======================|\n",
            "|   0  Tesla P4            Off  | 00000000:00:04.0 Off |                    0 |\n",
            "| N/A   52C    P0    25W /  75W |      0MiB /  7611MiB |      0%      Default |\n",
            "+-------------------------------+----------------------+----------------------+\n",
            "                                                                               \n",
            "+-----------------------------------------------------------------------------+\n",
            "| Processes:                                                       GPU Memory |\n",
            "|  GPU       PID   Type   Process name                             Usage      |\n",
            "|=============================================================================|\n",
            "|  No running processes found                                                 |\n",
            "+-----------------------------------------------------------------------------+\n"
          ],
          "name": "stdout"
        }
      ]
    },
    {
      "cell_type": "code",
      "metadata": {
        "id": "CrwYumxnWtn6",
        "colab_type": "code",
        "colab": {
          "base_uri": "https://localhost:8080/",
          "height": 253
        },
        "outputId": "6e507dab-3390-4eca-d019-751d8621efff"
      },
      "source": [
        "!ln -sf /opt/bin/nvidia-smi /usr/bin/nvidia-smi\n",
        "!pip install gputil\n",
        "!pip install psutil\n",
        "!pip install humanize\n",
        "import psutil\n",
        "import humanize\n",
        "import os\n",
        "import GPUtil as GPU\n",
        "GPUs = GPU.getGPUs()\n",
        "# XXX: only one GPU on Colab and isn’t guaranteed\n",
        "gpu = GPUs[0]\n",
        "def printm():\n",
        " process = psutil.Process(os.getpid())\n",
        " print(\"Gen RAM Free: \" + humanize.naturalsize( psutil.virtual_memory().available ), \" | Proc size: \" + humanize.naturalsize( process.memory_info().rss))\n",
        " print(\"GPU RAM Free: {0:.0f}MB | Used: {1:.0f}MB | Util {2:3.0f}% | Total {3:.0f}MB\".format(gpu.memoryFree, gpu.memoryUsed, gpu.memoryUtil*100, gpu.memoryTotal))\n",
        "printm() \n"
      ],
      "execution_count": 9,
      "outputs": [
        {
          "output_type": "stream",
          "text": [
            "Collecting gputil\n",
            "  Downloading https://files.pythonhosted.org/packages/ed/0e/5c61eedde9f6c87713e89d794f01e378cfd9565847d4576fa627d758c554/GPUtil-1.4.0.tar.gz\n",
            "Building wheels for collected packages: gputil\n",
            "  Building wheel for gputil (setup.py) ... \u001b[?25l\u001b[?25hdone\n",
            "  Created wheel for gputil: filename=GPUtil-1.4.0-cp36-none-any.whl size=7410 sha256=8855560461837538a877116c48625bf8f516d817624bf43dd52fbef556c2dd2b\n",
            "  Stored in directory: /root/.cache/pip/wheels/3d/77/07/80562de4bb0786e5ea186911a2c831fdd0018bda69beab71fd\n",
            "Successfully built gputil\n",
            "Installing collected packages: gputil\n",
            "Successfully installed gputil-1.4.0\n",
            "Requirement already satisfied: psutil in /usr/local/lib/python3.6/dist-packages (5.4.8)\n",
            "Requirement already satisfied: humanize in /usr/local/lib/python3.6/dist-packages (0.5.1)\n",
            "Gen RAM Free: 10.9 GB  | Proc size: 5.5 GB\n",
            "GPU RAM Free: 5856MB | Used: 1755MB | Util  23% | Total 7611MB\n"
          ],
          "name": "stdout"
        }
      ]
    },
    {
      "cell_type": "markdown",
      "metadata": {
        "id": "UK9EuExfN68J",
        "colab_type": "text"
      },
      "source": [
        "# Transfer Learning\n",
        "\n",
        "In this notebook, you'll learn how to use pre-trained networks to solved challenging problems in computer vision. Specifically, you'll use networks trained on [ImageNet](http://www.image-net.org/) [available from torchvision](http://pytorch.org/docs/0.3.0/torchvision/models.html). \n",
        "\n",
        "ImageNet is a massive dataset with over 1 million labeled images in 1000 categories. It's used to train deep neural networks using an architecture called convolutional layers. I'm not going to get into the details of convolutional networks here, but if you want to learn more about them, please [watch this](https://www.youtube.com/watch?v=2-Ol7ZB0MmU).\n",
        "\n",
        "Once trained, these models work astonishingly well as feature detectors for images they weren't trained on. Using a pre-trained network on images not in the training set is called transfer learning. Here we'll use transfer learning to train a network that can classify our cat and dog photos with near perfect accuracy.\n",
        "\n",
        "With `torchvision.models` you can download these pre-trained networks and use them in your applications. We'll include `models` in our imports now."
      ]
    },
    {
      "cell_type": "code",
      "metadata": {
        "id": "xE6YRg8VN68M",
        "colab_type": "code",
        "colab": {}
      },
      "source": [
        "%matplotlib inline\n",
        "%config InlineBackend.figure_format = 'retina'\n",
        "\n",
        "import matplotlib.pyplot as plt\n",
        "\n",
        "import torch\n",
        "from torch import nn\n",
        "from torch import optim\n",
        "import torch.nn.functional as F\n",
        "from torchvision import datasets, transforms, models"
      ],
      "execution_count": 0,
      "outputs": []
    },
    {
      "cell_type": "markdown",
      "metadata": {
        "id": "CKF36mK7N68O",
        "colab_type": "text"
      },
      "source": [
        "Most of the pretrained models require the input to be 224x224 images. Also, we'll need to match the normalization used when the models were trained. Each color channel was normalized separately, the means are `[0.485, 0.456, 0.406]` and the standard deviations are `[0.229, 0.224, 0.225]`."
      ]
    },
    {
      "cell_type": "code",
      "metadata": {
        "id": "day9ampCN68P",
        "colab_type": "code",
        "colab": {}
      },
      "source": [
        "data_dir = '/content/drive/My Drive/Colab Notebooks/data/Cat_Dog_data'\n",
        "\n",
        "# TODO: Define transforms for the training data and testing data\n",
        "train_transforms = transforms.Compose([\n",
        "                                      transforms.RandomRotation(30),\n",
        "                                       transforms.RandomResizedCrop(224),\n",
        "                                       transforms.RandomHorizontalFlip(), \n",
        "                                       transforms.ToTensor(),\n",
        "                                       transforms.Normalize([0.485, 0.456, 0.406],\n",
        "                                                            [0.229, 0.224, 0.225])\n",
        "])\n",
        "\n",
        "test_transforms = transforms.Compose([\n",
        "                                      transforms.Resize(255),\n",
        "                                      transforms.CenterCrop(224),\n",
        "                                      transforms.ToTensor(),\n",
        "                                       transforms.Normalize([0.485, 0.456, 0.406],\n",
        "                                                            [0.229, 0.224, 0.225])\n",
        "])\n",
        "\n",
        "# Pass transforms in here, then run the next cell to see how the transforms look\n",
        "train_data = datasets.ImageFolder(data_dir + '/train', transform=train_transforms)\n",
        "test_data = datasets.ImageFolder(data_dir + '/test', transform=test_transforms)\n",
        "\n",
        "trainloader = torch.utils.data.DataLoader(train_data, batch_size=128, shuffle=True)\n",
        "testloader = torch.utils.data.DataLoader(test_data, batch_size=128)"
      ],
      "execution_count": 0,
      "outputs": []
    },
    {
      "cell_type": "code",
      "metadata": {
        "id": "QuXeodpfc3UD",
        "colab_type": "code",
        "colab": {
          "base_uri": "https://localhost:8080/",
          "height": 50
        },
        "outputId": "3a47f20e-6bde-4da6-fe6d-955406c8f134"
      },
      "source": [
        "print(len(train_data.samples))\n",
        "print(len(test_data.samples))"
      ],
      "execution_count": 10,
      "outputs": [
        {
          "output_type": "stream",
          "text": [
            "2500\n",
            "2500\n"
          ],
          "name": "stdout"
        }
      ]
    },
    {
      "cell_type": "markdown",
      "metadata": {
        "id": "VwlRRMYtN68R",
        "colab_type": "text"
      },
      "source": [
        "We can load in a model such as [DenseNet](http://pytorch.org/docs/0.3.0/torchvision/models.html#id5). Let's print out the model architecture so we can see what's going on."
      ]
    },
    {
      "cell_type": "code",
      "metadata": {
        "scrolled": true,
        "id": "KTKKnEM0N68S",
        "colab_type": "code",
        "colab": {}
      },
      "source": [
        "model = models.densenet121(pretrained=True)\n",
        "model"
      ],
      "execution_count": 0,
      "outputs": []
    },
    {
      "cell_type": "markdown",
      "metadata": {
        "id": "oThBlEZSN68U",
        "colab_type": "text"
      },
      "source": [
        "This model is built out of two main parts, the features and the classifier. The features part is a stack of convolutional layers and overall works as a feature detector that can be fed into a classifier. The classifier part is a single fully-connected layer `(classifier): Linear(in_features=1024, out_features=1000)`. This layer was trained on the ImageNet dataset, so it won't work for our specific problem. That means we need to replace the classifier, but the features will work perfectly on their own. In general, I think about pre-trained networks as amazingly good feature detectors that can be used as the input for simple feed-forward classifiers."
      ]
    },
    {
      "cell_type": "code",
      "metadata": {
        "id": "b4uh0aptN68U",
        "colab_type": "code",
        "colab": {}
      },
      "source": [
        "# Freeze parameters so we don't backprop through them\n",
        "for param in model.parameters():\n",
        "    param.requires_grad = False\n",
        "\n",
        "from collections import OrderedDict\n",
        "classifier = nn.Sequential(OrderedDict([\n",
        "                          ('fc1', nn.Linear(1024, 500)),\n",
        "                          ('relu', nn.ReLU()),\n",
        "                          ('fc2', nn.Linear(500, 2)),\n",
        "                          ('output', nn.LogSoftmax(dim=1))\n",
        "                          ]))\n",
        "    \n",
        "model.classifier = classifier"
      ],
      "execution_count": 0,
      "outputs": []
    },
    {
      "cell_type": "markdown",
      "metadata": {
        "id": "PHAs0atqN68W",
        "colab_type": "text"
      },
      "source": [
        "With our model built, we need to train the classifier. However, now we're using a **really deep** neural network. If you try to train this on a CPU like normal, it will take a long, long time. Instead, we're going to use the GPU to do the calculations. The linear algebra computations are done in parallel on the GPU leading to 100x increased training speeds. It's also possible to train on multiple GPUs, further decreasing training time.\n",
        "\n",
        "PyTorch, along with pretty much every other deep learning framework, uses [CUDA](https://developer.nvidia.com/cuda-zone) to efficiently compute the forward and backwards passes on the GPU. In PyTorch, you move your model parameters and other tensors to the GPU memory using `model.to('cuda')`. You can move them back from the GPU with `model.to('cpu')` which you'll commonly do when you need to operate on the network output outside of PyTorch. As a demonstration of the increased speed, I'll compare how long it takes to perform a forward and backward pass with and without a GPU."
      ]
    },
    {
      "cell_type": "code",
      "metadata": {
        "id": "jOldXJBWN68X",
        "colab_type": "code",
        "colab": {}
      },
      "source": [
        "import time"
      ],
      "execution_count": 0,
      "outputs": []
    },
    {
      "cell_type": "code",
      "metadata": {
        "id": "QzluPQFRN68Z",
        "colab_type": "code",
        "outputId": "3ee6131d-275c-4a58-f0b7-a4efe8017f69",
        "colab": {
          "base_uri": "https://localhost:8080/",
          "height": 50
        }
      },
      "source": [
        "for device in ['cpu', 'cuda']:\n",
        "\n",
        "    criterion = nn.NLLLoss()\n",
        "    # Only train the classifier parameters, feature parameters are frozen\n",
        "    optimizer = optim.Adam(model.classifier.parameters(), lr=0.001)\n",
        "\n",
        "    model.to(device)\n",
        "\n",
        "    for ii, (inputs, labels) in enumerate(trainloader):\n",
        "\n",
        "        # Move input and label tensors to the GPU\n",
        "        inputs, labels = inputs.to(device), labels.to(device)\n",
        "\n",
        "        start = time.time()\n",
        "\n",
        "        outputs = model.forward(inputs)\n",
        "        loss = criterion(outputs, labels)\n",
        "        loss.backward()\n",
        "        optimizer.step()\n",
        "\n",
        "        if ii==3:\n",
        "            break\n",
        "        \n",
        "    print(f\"Device = {device}; Time per batch: {(time.time() - start)/3:.3f} seconds\")"
      ],
      "execution_count": 0,
      "outputs": [
        {
          "output_type": "stream",
          "text": [
            "Device = cpu; Time per batch: 3.589 seconds\n",
            "Device = cuda; Time per batch: 0.008 seconds\n"
          ],
          "name": "stdout"
        }
      ]
    },
    {
      "cell_type": "markdown",
      "metadata": {
        "id": "cRO9TM5zN68b",
        "colab_type": "text"
      },
      "source": [
        "You can write device agnostic code which will automatically use CUDA if it's enabled like so:\n",
        "```python\n",
        "# at beginning of the script\n",
        "device = torch.device(\"cuda:0\" if torch.cuda.is_available() else \"cpu\")\n",
        "\n",
        "...\n",
        "\n",
        "# then whenever you get a new Tensor or Module\n",
        "# this won't copy if they are already on the desired device\n",
        "input = data.to(device)\n",
        "model = MyModule(...).to(device)\n",
        "```\n",
        "\n",
        "From here, I'll let you finish training the model. The process is the same as before except now your model is much more powerful. You should get better than 95% accuracy easily.\n",
        "\n",
        ">**Exercise:** Train a pretrained models to classify the cat and dog images. Continue with the DenseNet model, or try ResNet, it's also a good model to try out first. Make sure you are only training the classifier and the parameters for the features part are frozen."
      ]
    },
    {
      "cell_type": "code",
      "metadata": {
        "id": "ySz1PlavN68c",
        "colab_type": "code",
        "colab": {}
      },
      "source": [
        "## TODO: Use a pretrained model to classify the cat and dog images\n",
        "model = models.resnet50(pretrained=True)\n",
        "for param in model.parameters():\n",
        "    param.requires_grad = False\n",
        "# model"
      ],
      "execution_count": 0,
      "outputs": []
    },
    {
      "cell_type": "code",
      "metadata": {
        "id": "pbfdae2QT7rL",
        "colab_type": "code",
        "colab": {}
      },
      "source": [
        "device  = 'cuda'\n",
        "model.fc = nn.Sequential(nn.Linear(2048, 256),\n",
        "                        nn.ReLU(),\n",
        "                        nn.Dropout(0.2),\n",
        "                        nn.Linear(256,2),\n",
        "                        nn.LogSoftmax(dim=1))\n",
        "model.to(device)\n",
        "criterion = nn.NLLLoss()\n",
        "optimizer = optim.Adam(model.fc.parameters(), lr=0.003)\n"
      ],
      "execution_count": 0,
      "outputs": []
    },
    {
      "cell_type": "code",
      "metadata": {
        "id": "SqFphXjVdwsW",
        "colab_type": "code",
        "colab": {
          "base_uri": "https://localhost:8080/",
          "height": 33
        },
        "outputId": "8602b5bf-6694-47b0-82d5-08be3df08423"
      },
      "source": [
        "print(len(trainloader), len(testloader))"
      ],
      "execution_count": 55,
      "outputs": [
        {
          "output_type": "stream",
          "text": [
            "20 20\n"
          ],
          "name": "stdout"
        }
      ]
    },
    {
      "cell_type": "code",
      "metadata": {
        "id": "K1u86bfFX7IJ",
        "colab_type": "code",
        "colab": {
          "base_uri": "https://localhost:8080/",
          "height": 1000
        },
        "outputId": "568e82a9-927d-41e0-c499-f25489d0c70d"
      },
      "source": [
        "epochs = 1\n",
        "steps = 0\n",
        "test_every = 5\n",
        "accuracy = 0\n",
        "for ep in range(epochs):\n",
        "    # print('ep = %d batch count : ' % ep)\n",
        "    for imgs, lbls in trainloader:\n",
        "        steps += 1\n",
        "        # print(steps , end = ' ')\n",
        "        optimizer.zero_grad()\n",
        "        imgs, lbls = imgs.to(device), lbls.to(device)\n",
        "        fw = model.forward(imgs)\n",
        "        loss = criterion(fw, lbls)\n",
        "        loss.backward()\n",
        "        optimizer.step()\n",
        "\n",
        "\n",
        "        if steps % test_every == 0:\n",
        "            model.eval()\n",
        "            test_step = 0\n",
        "            accuracy = 0\n",
        "            for inputs, labels in testloader:\n",
        "                test_step += 1\n",
        "                inputs, labels = inputs.to(device), labels.to(device)\n",
        "                fw = model.forward(inputs)\n",
        "                # loss = criterion(fw, labels)\n",
        "                ps = torch.exp(fw)\n",
        "                top_p, top_class = ps.topk(1, dim=1)\n",
        "                equals = top_class == labels.view(*top_class.shape)\n",
        "                accuracy += torch.mean(equals.type(torch.FloatTensor)).item()\n",
        "                print(\"patch %d, accuracy %f\" % ( test_step, torch.mean(equals.type(torch.FloatTensor)).item()))\n",
        "            print(f\"Epoch {ep+1}/{epochs}.. \"\n",
        "                    f\"Test accuracy: {accuracy/len(testloader):.3f}\")\n",
        "            # running_loss = 0\n",
        "            model.train()"
      ],
      "execution_count": 56,
      "outputs": [
        {
          "output_type": "stream",
          "text": [
            "patch 1, accuracy 0.109375\n",
            "patch 2, accuracy 0.117188\n",
            "patch 3, accuracy 0.125000\n",
            "patch 4, accuracy 0.109375\n",
            "patch 5, accuracy 0.117188\n",
            "patch 6, accuracy 0.132812\n",
            "patch 7, accuracy 0.125000\n",
            "patch 8, accuracy 0.101562\n",
            "patch 9, accuracy 0.093750\n",
            "patch 10, accuracy 0.312500\n",
            "patch 11, accuracy 1.000000\n",
            "patch 12, accuracy 1.000000\n",
            "patch 13, accuracy 1.000000\n",
            "patch 14, accuracy 1.000000\n",
            "patch 15, accuracy 1.000000\n",
            "patch 16, accuracy 1.000000\n",
            "patch 17, accuracy 1.000000\n",
            "patch 18, accuracy 1.000000\n",
            "patch 19, accuracy 1.000000\n",
            "patch 20, accuracy 1.000000\n",
            "Epoch 1/1.. Test accuracy: 0.567\n",
            "patch 1, accuracy 0.984375\n",
            "patch 2, accuracy 1.000000\n",
            "patch 3, accuracy 0.992188\n",
            "patch 4, accuracy 0.984375\n",
            "patch 5, accuracy 0.992188\n",
            "patch 6, accuracy 0.992188\n",
            "patch 7, accuracy 1.000000\n",
            "patch 8, accuracy 1.000000\n",
            "patch 9, accuracy 0.992188\n",
            "patch 10, accuracy 0.976562\n",
            "patch 11, accuracy 0.929688\n",
            "patch 12, accuracy 0.960938\n",
            "patch 13, accuracy 0.851562\n",
            "patch 14, accuracy 0.968750\n",
            "patch 15, accuracy 0.914062\n",
            "patch 16, accuracy 0.890625\n",
            "patch 17, accuracy 0.945312\n",
            "patch 18, accuracy 0.914062\n",
            "patch 19, accuracy 0.953125\n",
            "patch 20, accuracy 0.955882\n",
            "Epoch 1/1.. Test accuracy: 0.960\n",
            "patch 1, accuracy 0.914062\n",
            "patch 2, accuracy 0.953125\n",
            "patch 3, accuracy 0.929688\n",
            "patch 4, accuracy 0.968750\n",
            "patch 5, accuracy 0.945312\n",
            "patch 6, accuracy 0.914062\n",
            "patch 7, accuracy 0.984375\n",
            "patch 8, accuracy 0.960938\n",
            "patch 9, accuracy 0.914062\n",
            "patch 10, accuracy 0.968750\n",
            "patch 11, accuracy 1.000000\n",
            "patch 12, accuracy 1.000000\n",
            "patch 13, accuracy 1.000000\n",
            "patch 14, accuracy 1.000000\n",
            "patch 15, accuracy 0.992188\n",
            "patch 16, accuracy 0.984375\n",
            "patch 17, accuracy 0.984375\n",
            "patch 18, accuracy 1.000000\n",
            "patch 19, accuracy 1.000000\n",
            "patch 20, accuracy 0.985294\n",
            "Epoch 1/1.. Test accuracy: 0.970\n",
            "patch 1, accuracy 1.000000\n",
            "patch 2, accuracy 1.000000\n",
            "patch 3, accuracy 0.992188\n",
            "patch 4, accuracy 1.000000\n",
            "patch 5, accuracy 0.992188\n",
            "patch 6, accuracy 0.992188\n",
            "patch 7, accuracy 1.000000\n",
            "patch 8, accuracy 1.000000\n",
            "patch 9, accuracy 0.992188\n",
            "patch 10, accuracy 0.968750\n",
            "patch 11, accuracy 0.890625\n",
            "patch 12, accuracy 0.921875\n",
            "patch 13, accuracy 0.820312\n",
            "patch 14, accuracy 0.937500\n",
            "patch 15, accuracy 0.890625\n",
            "patch 16, accuracy 0.875000\n",
            "patch 17, accuracy 0.890625\n",
            "patch 18, accuracy 0.851562\n",
            "patch 19, accuracy 0.929688\n",
            "patch 20, accuracy 0.926471\n",
            "Epoch 1/1.. Test accuracy: 0.944\n"
          ],
          "name": "stdout"
        }
      ]
    }
  ]
}